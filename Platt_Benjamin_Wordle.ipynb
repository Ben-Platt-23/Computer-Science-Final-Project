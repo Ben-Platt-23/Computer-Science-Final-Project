{
 "cells": [
  {
   "cell_type": "code",
   "execution_count": 93,
   "metadata": {},
   "outputs": [],
   "source": [
    "import random\n",
    "from colorama import *\n",
    "\n",
    "def make_word_list():\n",
    "    global word_list\n",
    "    word_list = []\n",
    "    fin = open('sgb-words.txt')\n",
    "    for line in fin:\n",
    "        word = line.strip()\n",
    "        word_list.append(word)\n",
    "\n",
    "\n",
    "def play_wordle():\n",
    "    make_word_list()\n",
    "    \n",
    "    count = 0\n",
    "    print(\"Welcome to Ben's wordle!!!\")\n",
    "    print('All words and guesses are 5 letters.')\n",
    "    print('You get 6 guesses.')\n",
    "\n",
    "    answer = random.choice(word_list)\n",
    "    \n",
    "    \n",
    "    while count < 6:\n",
    "        guess = input('Please enter your guess.')\n",
    "        if guess not in word_list:\n",
    "            print('Invalid guess.')\n",
    "            guess = input('Please enter a valid guess')\n",
    "        \n",
    "        #print(answer)\n",
    "        \n",
    "        output = ''\n",
    "\n",
    "        for i in range(answer.__len__()):\n",
    "            \n",
    "            if guess[i] == answer[i]:\n",
    "                print(Back.GREEN + Fore.WHITE + guess[i] + Back.RESET, end=\"\") \n",
    "            \n",
    "            elif guess[i] in answer:\n",
    "                print(Back.YELLOW + Fore.WHITE + guess[i] + Back.RESET, end=\"\")\n",
    "            \n",
    "            else:\n",
    "                print(guess[i], end=\"\")\n",
    "        \n",
    "        print(output)\n",
    "        \n",
    "        count += 1\n",
    "\n",
    "        if guess == answer:\n",
    "            print('Congratulations you won!!!')\n",
    "            play_wordle()                \n",
    "    else:\n",
    "        print('You lost.')\n",
    "        print('The answer was ' + answer)\n",
    "        play_wordle()"
   ]
  },
  {
   "cell_type": "code",
   "execution_count": null,
   "metadata": {},
   "outputs": [],
   "source": [
    "play_wordle()"
   ]
  }
 ],
 "metadata": {
  "interpreter": {
   "hash": "b0fa6594d8f4cbf19f97940f81e996739fb7646882a419484c72d19e05852a7e"
  },
  "kernelspec": {
   "display_name": "Python 3.9.10 64-bit",
   "language": "python",
   "name": "python3"
  },
  "language_info": {
   "codemirror_mode": {
    "name": "ipython",
    "version": 3
   },
   "file_extension": ".py",
   "mimetype": "text/x-python",
   "name": "python",
   "nbconvert_exporter": "python",
   "pygments_lexer": "ipython3",
   "version": "3.9.10"
  },
  "orig_nbformat": 4
 },
 "nbformat": 4,
 "nbformat_minor": 2
}
