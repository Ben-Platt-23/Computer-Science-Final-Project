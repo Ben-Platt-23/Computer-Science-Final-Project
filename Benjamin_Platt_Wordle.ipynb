{
 "cells": [
  {
   "cell_type": "code",
   "execution_count": 65,
   "metadata": {},
   "outputs": [],
   "source": [
    "def make_word_list():\n",
    "    global word_list\n",
    "    word_list = []\n",
    "    fin = open('sgb-words.txt')\n",
    "    for line in fin:\n",
    "        word = line.strip()\n",
    "        word_list.append(word)"
   ]
  },
  {
   "cell_type": "code",
   "execution_count": null,
   "metadata": {},
   "outputs": [],
   "source": [
    "import random\n",
    "from colorama import *\n",
    "\n",
    "\n",
    "def play_wordle():\n",
    "    count = 0\n",
    "    print(\"Welcome to Ben's wordle!!!\")\n",
    "    print('All words and guesses are 5 letters.')\n",
    "    print('You get 6 guesses.')\n",
    "\n",
    "    answer = random.choice(word_list)\n",
    "    \n",
    "    \n",
    "    \n",
    "    while count < 6:\n",
    "        guess = input('Please enter your guess.')\n",
    "        print(answer)\n",
    "        output = ''\n",
    "\n",
    "        for i in range(answer.__len__()):\n",
    "            if guess[i] == answer[i]:\n",
    "                print(Back.GREEN + Fore.WHITE + guess[i] + Back.RESET, end=\"\") \n",
    "            \n",
    "            elif guess[i] in answer:\n",
    "                print(Back.YELLOW + Fore.WHITE + guess[i] + Back.RESET, end=\"\")\n",
    "            \n",
    "            else:\n",
    "                print(guess[i], end=\"\")\n",
    "        \n",
    "        print(output)\n",
    "        \n",
    "        if guess == answer:\n",
    "            print('Congratulations you won!!!')\n",
    "            count += 6\n",
    "        \n",
    "        count =+ 1"
   ]
  },
  {
   "cell_type": "code",
   "execution_count": 64,
   "metadata": {},
   "outputs": [
    {
     "name": "stdout",
     "output_type": "stream",
     "text": [
      "posts\n",
      "\u001b[43m\u001b[30mt\u001b[49mac\u001b[43m\u001b[30mo\u001b[49m\u001b[42m\u001b[30ms\u001b[49m\n",
      "posts\n",
      "\u001b[42m\u001b[30mp\u001b[49m\u001b[42m\u001b[30mo\u001b[49m\u001b[42m\u001b[30ms\u001b[49m\u001b[42m\u001b[30mt\u001b[49me\n",
      "posts\n",
      "\u001b[43m\u001b[30mt\u001b[49m\u001b[42m\u001b[30mo\u001b[49m\u001b[42m\u001b[30ms\u001b[49m\u001b[42m\u001b[30mt\u001b[49m\u001b[42m\u001b[30ms\u001b[49m\n",
      "posts\n"
     ]
    },
    {
     "ename": "IndexError",
     "evalue": "string index out of range",
     "output_type": "error",
     "traceback": [
      "\u001b[0;31m---------------------------------------------------------------------------\u001b[0m",
      "\u001b[0;31mIndexError\u001b[0m                                Traceback (most recent call last)",
      "\u001b[0;32m/var/folders/2j/rgdd494d7nj6ss812c9b9d6h0000gn/T/ipykernel_31507/1749918188.py\u001b[0m in \u001b[0;36m<module>\u001b[0;34m\u001b[0m\n\u001b[0;32m----> 1\u001b[0;31m \u001b[0mplay_wordle\u001b[0m\u001b[0;34m(\u001b[0m\u001b[0;34m)\u001b[0m\u001b[0;34m\u001b[0m\u001b[0;34m\u001b[0m\u001b[0m\n\u001b[0m",
      "\u001b[0;32m/var/folders/2j/rgdd494d7nj6ss812c9b9d6h0000gn/T/ipykernel_31507/2726413445.py\u001b[0m in \u001b[0;36mplay_wordle\u001b[0;34m()\u001b[0m\n\u001b[1;32m     19\u001b[0m \u001b[0;34m\u001b[0m\u001b[0m\n\u001b[1;32m     20\u001b[0m         \u001b[0;32mfor\u001b[0m \u001b[0mi\u001b[0m \u001b[0;32min\u001b[0m \u001b[0mrange\u001b[0m\u001b[0;34m(\u001b[0m\u001b[0manswer\u001b[0m\u001b[0;34m.\u001b[0m\u001b[0m__len__\u001b[0m\u001b[0;34m(\u001b[0m\u001b[0;34m)\u001b[0m\u001b[0;34m)\u001b[0m\u001b[0;34m:\u001b[0m\u001b[0;34m\u001b[0m\u001b[0;34m\u001b[0m\u001b[0m\n\u001b[0;32m---> 21\u001b[0;31m             \u001b[0;32mif\u001b[0m \u001b[0mguess\u001b[0m\u001b[0;34m[\u001b[0m\u001b[0mi\u001b[0m\u001b[0;34m]\u001b[0m \u001b[0;34m==\u001b[0m \u001b[0manswer\u001b[0m\u001b[0;34m[\u001b[0m\u001b[0mi\u001b[0m\u001b[0;34m]\u001b[0m\u001b[0;34m:\u001b[0m\u001b[0;34m\u001b[0m\u001b[0;34m\u001b[0m\u001b[0m\n\u001b[0m\u001b[1;32m     22\u001b[0m                 \u001b[0mprint\u001b[0m\u001b[0;34m(\u001b[0m\u001b[0mBack\u001b[0m\u001b[0;34m.\u001b[0m\u001b[0mGREEN\u001b[0m \u001b[0;34m+\u001b[0m \u001b[0mFore\u001b[0m\u001b[0;34m.\u001b[0m\u001b[0mBLACK\u001b[0m \u001b[0;34m+\u001b[0m \u001b[0mguess\u001b[0m\u001b[0;34m[\u001b[0m\u001b[0mi\u001b[0m\u001b[0;34m]\u001b[0m \u001b[0;34m+\u001b[0m \u001b[0mBack\u001b[0m\u001b[0;34m.\u001b[0m\u001b[0mRESET\u001b[0m\u001b[0;34m,\u001b[0m \u001b[0mend\u001b[0m\u001b[0;34m=\u001b[0m\u001b[0;34m\"\"\u001b[0m\u001b[0;34m)\u001b[0m\u001b[0;34m\u001b[0m\u001b[0;34m\u001b[0m\u001b[0m\n\u001b[1;32m     23\u001b[0m \u001b[0;34m\u001b[0m\u001b[0m\n",
      "\u001b[0;31mIndexError\u001b[0m: string index out of range"
     ]
    }
   ],
   "source": [
    "play_wordle()"
   ]
  }
 ],
 "metadata": {
  "interpreter": {
   "hash": "b0fa6594d8f4cbf19f97940f81e996739fb7646882a419484c72d19e05852a7e"
  },
  "kernelspec": {
   "display_name": "Python 3.9.10 64-bit",
   "language": "python",
   "name": "python3"
  },
  "language_info": {
   "codemirror_mode": {
    "name": "ipython",
    "version": 3
   },
   "file_extension": ".py",
   "mimetype": "text/x-python",
   "name": "python",
   "nbconvert_exporter": "python",
   "pygments_lexer": "ipython3",
   "version": "3.9.10"
  },
  "orig_nbformat": 4
 },
 "nbformat": 4,
 "nbformat_minor": 2
}
