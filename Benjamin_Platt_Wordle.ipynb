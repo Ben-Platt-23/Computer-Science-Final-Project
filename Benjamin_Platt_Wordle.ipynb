{
 "cells": [
  {
   "cell_type": "markdown",
   "metadata": {},
   "source": [
    "Write a program which builds \n",
    "    A whole word dictionary\n",
    "    By asking for user input\n",
    "    To decide whether to include\n",
    "    Each 5 letter word in words.txt\n",
    "\n",
    "Write a program which allows a user to play world with your worlde word dictionrary"
   ]
  },
  {
   "cell_type": "code",
   "execution_count": null,
   "metadata": {},
   "outputs": [],
   "source": []
  }
 ],
 "metadata": {
  "interpreter": {
   "hash": "b0fa6594d8f4cbf19f97940f81e996739fb7646882a419484c72d19e05852a7e"
  },
  "kernelspec": {
   "display_name": "Python 3.9.10 64-bit",
   "language": "python",
   "name": "python3"
  },
  "language_info": {
   "name": "python",
   "version": "3.9.10"
  },
  "orig_nbformat": 4
 },
 "nbformat": 4,
 "nbformat_minor": 2
}
