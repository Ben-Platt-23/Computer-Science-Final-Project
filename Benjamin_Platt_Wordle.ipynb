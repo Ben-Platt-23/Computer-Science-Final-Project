{
 "cells": [
  {
   "cell_type": "code",
   "execution_count": 1,
   "metadata": {},
   "outputs": [],
   "source": [
    "def make_word_list():\n",
    "    t = []\n",
    "    fin  = open('words.txt')\n",
    "    count = 0\n",
    "    for line in fin:\n",
    "        #count += 1\n",
    "        word  = line.strip()\n",
    "        t.append(word)\n",
    "    return t\n",
    "\n",
    "t = make_word_list"
   ]
  },
  {
   "cell_type": "code",
   "execution_count": 6,
   "metadata": {},
   "outputs": [
    {
     "name": "stdout",
     "output_type": "stream",
     "text": [
      "aa\n",
      "aah\n",
      "aahed\n",
      "aahing\n",
      "aahs\n",
      "aal\n",
      "aalii\n",
      "aaliis\n",
      "aals\n",
      "aardvark\n",
      "aardvarks\n",
      "aardwolf\n",
      "aardwolves\n",
      "aas\n",
      "aasvogel\n",
      "aasvogels\n",
      "aba\n",
      "abaca\n",
      "abacas\n",
      "abaci\n",
      "aback\n",
      "abacus\n",
      "abacuses\n",
      "abaft\n",
      "abaka\n",
      "abakas\n",
      "abalone\n",
      "abalones\n",
      "abamp\n",
      "abampere\n",
      "abamperes\n",
      "abamps\n",
      "abandon\n",
      "abandoned\n",
      "abandoning\n",
      "abandonment\n",
      "abandonments\n",
      "abandons\n",
      "abas\n",
      "abase\n",
      "abased\n",
      "abasedly\n",
      "abasement\n",
      "abasements\n",
      "abaser\n",
      "abasers\n",
      "abases\n",
      "abash\n",
      "abashed\n",
      "abashes\n",
      "abashing\n",
      "abasing\n",
      "abatable\n",
      "abate\n"
     ]
    }
   ],
   "source": [
    "def know_word():\n",
    "    t = make_word_list()\n",
    "    count = 0\n",
    "    while count <= 100:\n",
    "        for word in t:\n",
    "            count += 1\n",
    "            print(word)\n",
    "            user_input = input('Do you know this word? Y-Yes or N-No.')\n",
    "            if user_input == 'Y' or 'y':\n",
    "                continue\n",
    "            elif user_input == 'N' or 'n':\n",
    "                t.remove(word)\n",
    "\n",
    "know_word()"
   ]
  },
  {
   "cell_type": "code",
   "execution_count": null,
   "metadata": {},
   "outputs": [],
   "source": []
  }
 ],
 "metadata": {
  "interpreter": {
   "hash": "b0fa6594d8f4cbf19f97940f81e996739fb7646882a419484c72d19e05852a7e"
  },
  "kernelspec": {
   "display_name": "Python 3.9.10 64-bit",
   "language": "python",
   "name": "python3"
  },
  "language_info": {
   "codemirror_mode": {
    "name": "ipython",
    "version": 3
   },
   "file_extension": ".py",
   "mimetype": "text/x-python",
   "name": "python",
   "nbconvert_exporter": "python",
   "pygments_lexer": "ipython3",
   "version": "3.9.10"
  },
  "orig_nbformat": 4
 },
 "nbformat": 4,
 "nbformat_minor": 2
}
