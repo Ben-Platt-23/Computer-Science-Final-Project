{
 "cells": [
  {
   "cell_type": "code",
   "execution_count": 19,
   "metadata": {},
   "outputs": [],
   "source": [
    "def five_letter_list():\n",
    "    global five_list\n",
    "    five_list = []\n",
    "\n",
    "    for word in t:\n",
    "        if len(word) == 5:\n",
    "            five_list.append(word)"
   ]
  },
  {
   "cell_type": "code",
   "execution_count": 20,
   "metadata": {},
   "outputs": [],
   "source": [
    "t = make_word_list()\n",
    "five_letter_list()"
   ]
  },
  {
   "cell_type": "code",
   "execution_count": 26,
   "metadata": {},
   "outputs": [],
   "source": [
    "def know_word():\n",
    "\n",
    "    five_letter_list()\n",
    "    \n",
    "    wordle_list = []\n",
    "    count = 0\n",
    "    while count < 50:\n",
    "        for word in five_list:\n",
    "            count += 1\n",
    "            \n",
    "            print(word, count)\n",
    "            \n",
    "            u_input = input(\"Would you like this word in your worlde list? 'Y' or 'y' for yes and 'N' or 'n' for no.\")\n",
    "            if u_input == 'Y' or 'y':\n",
    "                wordle_list.append(word)\n",
    "            elif u_input == 'N' or 'n':\n",
    "                continue\n",
    "            elif count == 50:\n",
    "                print('You have your list, get ready to play.')\n",
    "                break"
   ]
  },
  {
   "cell_type": "markdown",
   "metadata": {},
   "source": [
    "All code above is remence of trying to manually make a 5 letter word list. Below is a file I downloaded from Stanford that is just a giant list of 5 letter words"
   ]
  },
  {
   "cell_type": "code",
   "execution_count": 1,
   "metadata": {},
   "outputs": [],
   "source": [
    "def make_word_list():\n",
    "    global word_list\n",
    "    word_list = []\n",
    "    fin = open('sgb-words.txt')\n",
    "    for line in fin:\n",
    "        word = line.strip()\n",
    "        word_list.append(word)\n",
    "    #return t"
   ]
  },
  {
   "cell_type": "code",
   "execution_count": 2,
   "metadata": {},
   "outputs": [],
   "source": [
    "make_word_list()"
   ]
  },
  {
   "cell_type": "code",
   "execution_count": 3,
   "metadata": {},
   "outputs": [],
   "source": [
    "from colorama import *\n",
    "\n",
    "def display():\n",
    "    print(guess1)\n",
    "    print(guess2)\n",
    "    print(guess3)\n",
    "    print(guess4)\n",
    "    print(guess5)\n",
    "    print(guess6)\n",
    "    str_guess=''\n",
    "    for letter in guess:\n",
    "        for letter in answer:\n",
    "            if guess[letter] == answer[letter]\n",
    "        if letter in answer:\n",
    "            str_guess += Back.GREEN + Fore.BLACK + letter + ' '\n",
    "    print(str_guess)"
   ]
  },
  {
   "cell_type": "code",
   "execution_count": 27,
   "metadata": {},
   "outputs": [
    {
     "name": "stdout",
     "output_type": "stream",
     "text": [
      "True\n",
      "True\n",
      "True\n",
      "True\n"
     ]
    }
   ],
   "source": [
    "guess = 'hello'\n",
    "answer = 'heals'\n",
    "guess_list = []\n",
    "answer_list = []\n",
    "\n",
    "for letter in guess:\n",
    "    guess_list.append(letter)\n",
    "#print(guess_list)\n",
    "\n",
    "for letter in answer:\n",
    "    answer_list.append(letter)\n",
    "#print(answer_list)\n",
    "\n",
    "for x in range(len(guess_list)):\n",
    "    for y in range(len(answer_list)):\n",
    "        if guess_list[x] == answer_list[y]:\n",
    "            print(True)"
   ]
  },
  {
   "cell_type": "code",
   "execution_count": null,
   "metadata": {},
   "outputs": [],
   "source": [
    "from random import choice\n",
    "\n",
    "\n",
    "def play_wordle():\n",
    "    print(\"Welcome to Ben's wordle!!!\")\n",
    "    print('All guesses must be 5 letters.')\n",
    "    print('You get 6 guesses.')\n",
    "\n",
    "    answer = random.choice(word_list)\n",
    "    answer_dict = {}\n",
    "    for letter in answer:\n",
    "        count = 0\n",
    "        answer_dict[letter] = count\n",
    "        count += 1\n",
    "\n",
    "\n",
    "    guess1 = input('Please enter your 1st guess.')\n",
    "    guess1_dict = {}\n",
    "    display()\n",
    "    if guess1 == answer:\n",
    "        return('Congratulations you won!!!')\n",
    "\n",
    "    guess2 = input('Please enter your 2nd guess.')\n",
    "    guess2_dict = {}\n",
    "    display()\n",
    "    if guess2 == answer:\n",
    "        return('Congratulations you won!!!')\n",
    "    \n",
    "    guess3 = input('Please enter your 3rd guess.')\n",
    "    guess3_dict = {}\n",
    "    display()\n",
    "    if guess3 == answer:\n",
    "        return('Congratulations you won!!!')\n",
    "    \n",
    "    guess4 = input('Please enter your 4th guess.')\n",
    "    guess4_dict = {}\n",
    "    display()\n",
    "    if guess4 == answer:\n",
    "        return('Congratulations you won!!!')\n",
    "    \n",
    "    guess5 = input('Please enter your 5th guess.')\n",
    "    guess5_dict = {}\n",
    "    display()\n",
    "    if guess5 == answer:\n",
    "        return('Congratulations you won!!!')\n",
    "\n",
    "    guess6 = input('Please enter your 6th and FINAL guess.')\n",
    "    guess6_dict = {}\n",
    "    display()\n",
    "    if guess6 == answer:\n",
    "        return('Congratulations you won!!!')"
   ]
  },
  {
   "cell_type": "code",
   "execution_count": 100,
   "metadata": {},
   "outputs": [],
   "source": [
    "play_wordle()"
   ]
  },
  {
   "cell_type": "code",
   "execution_count": null,
   "metadata": {},
   "outputs": [],
   "source": []
  }
 ],
 "metadata": {
  "interpreter": {
   "hash": "b0fa6594d8f4cbf19f97940f81e996739fb7646882a419484c72d19e05852a7e"
  },
  "kernelspec": {
   "display_name": "Python 3.9.10 64-bit",
   "language": "python",
   "name": "python3"
  },
  "language_info": {
   "codemirror_mode": {
    "name": "ipython",
    "version": 3
   },
   "file_extension": ".py",
   "mimetype": "text/x-python",
   "name": "python",
   "nbconvert_exporter": "python",
   "pygments_lexer": "ipython3",
   "version": "3.9.10"
  },
  "orig_nbformat": 4
 },
 "nbformat": 4,
 "nbformat_minor": 2
}
